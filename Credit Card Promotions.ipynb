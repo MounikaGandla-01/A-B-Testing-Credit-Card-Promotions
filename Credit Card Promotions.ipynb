{
 "cells": [
  {
   "cell_type": "markdown",
   "id": "364d3f92-6d52-44cc-9745-ae312461c0cd",
   "metadata": {},
   "source": [
    "## Problem Statement: Financial Institute wants to evaluate a recent credit card promotion. After this promotion, 500 cardholders were randomly selected. Half received an ad promoting a full waiver of interest rate on purchases made over the next three months, and half received a standard Christmas advertisement. Did the ad promoting full interest rate waiver increase purchases?"
   ]
  },
  {
   "cell_type": "markdown",
   "id": "01d1ce3e-c160-4db8-aafd-255dccbee61d",
   "metadata": {},
   "source": [
    "## Load the data"
   ]
  },
  {
   "cell_type": "code",
   "execution_count": 1,
   "id": "bd4d3ffa-49d7-403a-b60b-95630ea2b384",
   "metadata": {},
   "outputs": [],
   "source": [
    "import pandas as pd"
   ]
  },
  {
   "cell_type": "code",
   "execution_count": 7,
   "id": "37bd74e7-b0db-4231-9bbd-d3dd1ca5af3b",
   "metadata": {},
   "outputs": [],
   "source": [
    "data = pd.read_excel(r\"Promotion.xlsx\")"
   ]
  },
  {
   "cell_type": "code",
   "execution_count": 9,
   "id": "1323a17b-9cd3-4c7d-b92a-abc695f43b60",
   "metadata": {},
   "outputs": [
    {
     "data": {
      "text/html": [
       "<div>\n",
       "<style scoped>\n",
       "    .dataframe tbody tr th:only-of-type {\n",
       "        vertical-align: middle;\n",
       "    }\n",
       "\n",
       "    .dataframe tbody tr th {\n",
       "        vertical-align: top;\n",
       "    }\n",
       "\n",
       "    .dataframe thead th {\n",
       "        text-align: right;\n",
       "    }\n",
       "</style>\n",
       "<table border=\"1\" class=\"dataframe\">\n",
       "  <thead>\n",
       "    <tr style=\"text-align: right;\">\n",
       "      <th></th>\n",
       "      <th>Interest Rate Waiver ($ spent)</th>\n",
       "      <th>Standard Promotion ($ spent)</th>\n",
       "    </tr>\n",
       "  </thead>\n",
       "  <tbody>\n",
       "    <tr>\n",
       "      <th>0</th>\n",
       "      <td>1989.10</td>\n",
       "      <td>1272.25</td>\n",
       "    </tr>\n",
       "    <tr>\n",
       "      <th>1</th>\n",
       "      <td>1808.38</td>\n",
       "      <td>1250.38</td>\n",
       "    </tr>\n",
       "    <tr>\n",
       "      <th>2</th>\n",
       "      <td>1153.75</td>\n",
       "      <td>1474.78</td>\n",
       "    </tr>\n",
       "    <tr>\n",
       "      <th>3</th>\n",
       "      <td>1745.64</td>\n",
       "      <td>2064.89</td>\n",
       "    </tr>\n",
       "    <tr>\n",
       "      <th>4</th>\n",
       "      <td>1008.24</td>\n",
       "      <td>2030.87</td>\n",
       "    </tr>\n",
       "  </tbody>\n",
       "</table>\n",
       "</div>"
      ],
      "text/plain": [
       "   Interest Rate Waiver ($ spent)  Standard Promotion ($ spent)\n",
       "0                         1989.10                       1272.25\n",
       "1                         1808.38                       1250.38\n",
       "2                         1153.75                       1474.78\n",
       "3                         1745.64                       2064.89\n",
       "4                         1008.24                       2030.87"
      ]
     },
     "execution_count": 9,
     "metadata": {},
     "output_type": "execute_result"
    }
   ],
   "source": [
    "data.head()"
   ]
  },
  {
   "cell_type": "code",
   "execution_count": 14,
   "id": "49b4f103-3811-4021-af0e-eb38f3f3cfed",
   "metadata": {},
   "outputs": [],
   "source": [
    "data.columns = 'InterestRateWaiver' , 'StandardPromotion'"
   ]
  },
  {
   "cell_type": "code",
   "execution_count": 16,
   "id": "46f5a15c-68e7-4f06-889c-978dd18398af",
   "metadata": {},
   "outputs": [
    {
     "data": {
      "text/html": [
       "<div>\n",
       "<style scoped>\n",
       "    .dataframe tbody tr th:only-of-type {\n",
       "        vertical-align: middle;\n",
       "    }\n",
       "\n",
       "    .dataframe tbody tr th {\n",
       "        vertical-align: top;\n",
       "    }\n",
       "\n",
       "    .dataframe thead th {\n",
       "        text-align: right;\n",
       "    }\n",
       "</style>\n",
       "<table border=\"1\" class=\"dataframe\">\n",
       "  <thead>\n",
       "    <tr style=\"text-align: right;\">\n",
       "      <th></th>\n",
       "      <th>InterestRateWaiver</th>\n",
       "      <th>StandardPromotion</th>\n",
       "    </tr>\n",
       "  </thead>\n",
       "  <tbody>\n",
       "    <tr>\n",
       "      <th>0</th>\n",
       "      <td>1989.10</td>\n",
       "      <td>1272.25</td>\n",
       "    </tr>\n",
       "    <tr>\n",
       "      <th>1</th>\n",
       "      <td>1808.38</td>\n",
       "      <td>1250.38</td>\n",
       "    </tr>\n",
       "    <tr>\n",
       "      <th>2</th>\n",
       "      <td>1153.75</td>\n",
       "      <td>1474.78</td>\n",
       "    </tr>\n",
       "    <tr>\n",
       "      <th>3</th>\n",
       "      <td>1745.64</td>\n",
       "      <td>2064.89</td>\n",
       "    </tr>\n",
       "    <tr>\n",
       "      <th>4</th>\n",
       "      <td>1008.24</td>\n",
       "      <td>2030.87</td>\n",
       "    </tr>\n",
       "  </tbody>\n",
       "</table>\n",
       "</div>"
      ],
      "text/plain": [
       "   InterestRateWaiver  StandardPromotion\n",
       "0             1989.10            1272.25\n",
       "1             1808.38            1250.38\n",
       "2             1153.75            1474.78\n",
       "3             1745.64            2064.89\n",
       "4             1008.24            2030.87"
      ]
     },
     "execution_count": 16,
     "metadata": {},
     "output_type": "execute_result"
    }
   ],
   "source": [
    "data.head()"
   ]
  },
  {
   "cell_type": "code",
   "execution_count": 18,
   "id": "7d96f600-706e-4ab2-ae27-ae0f5aa8ed53",
   "metadata": {},
   "outputs": [],
   "source": [
    "import numpy as np\n",
    "import scipy\n",
    "from scipy import stats\n",
    "import statsmodels.api as sm\n",
    "import statsmodels.stats.descriptivestats as sd\n",
    "from statsmodels.stats import weightstats as stests"
   ]
  },
  {
   "cell_type": "markdown",
   "id": "d03945eb-5d6a-4a96-92dc-87ed15080e5b",
   "metadata": {},
   "source": [
    "## Normality Test"
   ]
  },
  {
   "cell_type": "markdown",
   "id": "63022798-a245-4175-b734-22fdb2e34df4",
   "metadata": {},
   "source": [
    "## Ho = Data are Normal\n",
    "## Ha = Data are not Normal"
   ]
  },
  {
   "cell_type": "code",
   "execution_count": 24,
   "id": "9871ae8c-471c-4f99-8d7b-7c1103bb30b1",
   "metadata": {},
   "outputs": [
    {
     "name": "stdout",
     "output_type": "stream",
     "text": [
      "ShapiroResult(statistic=0.9923668605850225, pvalue=0.22460944304178543)\n"
     ]
    }
   ],
   "source": [
    "NT1 =stats.shapiro(data.InterestRateWaiver)\n",
    "print(NT1)"
   ]
  },
  {
   "cell_type": "code",
   "execution_count": 26,
   "id": "815d6018-5560-4152-82f1-4e38c2280a01",
   "metadata": {},
   "outputs": [
    {
     "name": "stdout",
     "output_type": "stream",
     "text": [
      "ShapiroResult(statistic=0.9919790893297836, pvalue=0.1916020629878476)\n"
     ]
    }
   ],
   "source": [
    "NT2 = stats.shapiro(data.StandardPromotion)\n",
    "print(NT2)"
   ]
  },
  {
   "cell_type": "markdown",
   "id": "bd8fe67e-abda-47d1-a3b9-2a1de530902a",
   "metadata": {},
   "source": [
    "## As the p value for both the data columns is > 5 % , Here we fail to reject our Null Hypotheses i.e Both InterestRateWaiver and StandardPromotion are Normal"
   ]
  },
  {
   "cell_type": "markdown",
   "id": "f4843671-f66f-4915-ab87-1196696e30eb",
   "metadata": {},
   "source": [
    "**Are External Conditionas Equal? : No, the external conditions are not equal for both the data columns. Here the customers might be from different financial background, Gender, Location etc**\n",
    "\n",
    "**So Proceeding to check the variance of two data columns**"
   ]
  },
  {
   "cell_type": "markdown",
   "id": "052b864e-7f08-4167-a393-6b6000cf4f98",
   "metadata": {},
   "source": [
    "## Variance Test\n",
    "\n",
    "## Ho = Variances are equal\n",
    "## Ha = Variances are not equal"
   ]
  },
  {
   "cell_type": "code",
   "execution_count": 38,
   "id": "23b8528b-691a-4405-b7b5-28cb75e7c48d",
   "metadata": {},
   "outputs": [
    {
     "name": "stdout",
     "output_type": "stream",
     "text": [
      "LeveneResult(statistic=1.1334674473666406, pvalue=0.2875528565130808)\n"
     ]
    }
   ],
   "source": [
    "VT = stats.levene(data.InterestRateWaiver, data.StandardPromotion)\n",
    "print(VT)"
   ]
  },
  {
   "cell_type": "markdown",
   "id": "8d5b7c0b-ac26-446e-9299-bf9b6cbeca63",
   "metadata": {},
   "source": [
    "## The p value i.e 28% > 5% ,so fail to reject null hypothesis i.e Variances are equal"
   ]
  },
  {
   "cell_type": "markdown",
   "id": "2b5388ca-3c1b-48dd-87ca-46c335ca4414",
   "metadata": {},
   "source": [
    "## 2 Sample T test\n",
    "\n",
    "## Ho = Average purchases are equal\n",
    "## Ha = Average Purchases are not equal"
   ]
  },
  {
   "cell_type": "code",
   "execution_count": 48,
   "id": "63d7e31b-166b-4f4c-b4fc-b15c925cb212",
   "metadata": {},
   "outputs": [
    {
     "name": "stdout",
     "output_type": "stream",
     "text": [
      "TtestResult(statistic=2.2604251631369405, pvalue=0.02422584468584315, df=498.0)\n"
     ]
    }
   ],
   "source": [
    "Two_SampleT_Test = scipy.stats.ttest_ind(data.InterestRateWaiver, data.StandardPromotion)\n",
    "print(Two_SampleT_Test)"
   ]
  },
  {
   "cell_type": "markdown",
   "id": "c9350d58-309a-46e4-9b6e-42b2794f6aba",
   "metadata": {},
   "source": [
    "## The p value here 2% < 5%(Significance Level) so we Reject Ho i.e Average purchases are not equal\n",
    "\n",
    "## Then which Promotion has the greater Purchases and a better Promotion choice for the Financial Institute?\n"
   ]
  },
  {
   "cell_type": "markdown",
   "id": "e32e9395-4dcb-4db9-a4cb-847959b7024a",
   "metadata": {},
   "source": [
    "## 2 Sample T Test\n",
    "\n",
    "## Ho = InterestRateWaiver <= StandardPromotion\n",
    "## Ha = InterestRateWaiver > StandardPromotion"
   ]
  },
  {
   "cell_type": "code",
   "execution_count": 58,
   "id": "f268ea26-21c4-4f6a-8e08-cf4669bc9b12",
   "metadata": {},
   "outputs": [
    {
     "name": "stdout",
     "output_type": "stream",
     "text": [
      "TtestResult(statistic=2.2604251631369405, pvalue=0.012112922342921575, df=498.0)\n"
     ]
    }
   ],
   "source": [
    "two_sample_ttest2 = scipy.stats.ttest_ind(data.InterestRateWaiver, data.StandardPromotion, alternative = 'greater')\n",
    "print(two_sample_ttest2)"
   ]
  },
  {
   "cell_type": "markdown",
   "id": "35131e27-eafe-4549-af48-3a9be9bb62ac",
   "metadata": {},
   "source": [
    "## The p value here 0.012 < 0.05, Hence we reject Ho i.e InterestRateWaiver gives greater purchases than Standard Promotion"
   ]
  },
  {
   "cell_type": "markdown",
   "id": "cf7435cd-ebb3-42c3-87e7-efdff7fc7ced",
   "metadata": {},
   "source": [
    "# So as a Financial Analyst It can be concluded that Interest Rate Waiver performs better and is the better promotion than Standard Promotion "
   ]
  },
  {
   "cell_type": "code",
   "execution_count": null,
   "id": "1c49ac00-3523-44ad-94dd-1e0a58fa9514",
   "metadata": {},
   "outputs": [],
   "source": []
  }
 ],
 "metadata": {
  "kernelspec": {
   "display_name": "Python 3 (ipykernel)",
   "language": "python",
   "name": "python3"
  },
  "language_info": {
   "codemirror_mode": {
    "name": "ipython",
    "version": 3
   },
   "file_extension": ".py",
   "mimetype": "text/x-python",
   "name": "python",
   "nbconvert_exporter": "python",
   "pygments_lexer": "ipython3",
   "version": "3.12.4"
  }
 },
 "nbformat": 4,
 "nbformat_minor": 5
}
